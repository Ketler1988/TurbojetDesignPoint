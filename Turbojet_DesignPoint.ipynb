{
 "cells": [
  {
   "cell_type": "code",
   "execution_count": 2,
   "id": "abroad-telephone",
   "metadata": {},
   "outputs": [],
   "source": [
    "import pandas as pd"
   ]
  },
  {
   "cell_type": "markdown",
   "id": "advisory-foster",
   "metadata": {},
   "source": [
    "# Turbojet Design Point Calculations"
   ]
  },
  {
   "cell_type": "markdown",
   "id": "blessed-purple",
   "metadata": {},
   "source": [
    "## Input Data"
   ]
  },
  {
   "cell_type": "code",
   "execution_count": 78,
   "id": "brown-uncle",
   "metadata": {},
   "outputs": [],
   "source": [
    "Point = [1, 2]\n",
    "Pamb = [22.628, 30.5] # kPa\n",
    "Tamb = [216.7, 288.15] # K\n",
    "MN = [0.8]\n",
    "mass_flow = [100.0] # kg/sec\n",
    "PR = [25.0]\n",
    "SOT = [1400] # K\n",
    "CmpEffPol = [0.88]\n",
    "TrbEffPol = [0.89]\n",
    "CombustionEff = [0.999]\n",
    "LHV = [43100] # kJ/kg\n",
    "MechEff = [0.995]\n",
    "Inlet_dP = [0.005, 0.0]\n",
    "CmpExtDiff_dP = [0.02]\n",
    "Combustor_dP = [0.03]\n",
    "JetPipe_dP = [0.01]\n",
    "NozzleCD = [0.97]\n",
    "NozzleCX = [0.99]"
   ]
  },
  {
   "cell_type": "markdown",
   "id": "stone-bullet",
   "metadata": {},
   "source": [
    "***\n",
    "### Free Stream Conditions"
   ]
  },
  {
   "cell_type": "code",
   "execution_count": 72,
   "id": "confident-probe",
   "metadata": {
    "scrolled": true
   },
   "outputs": [
    {
     "name": "stdout",
     "output_type": "stream",
     "text": [
      "        Tt1        Pt1\n",
      "0  244.4376  34.492766\n",
      "1  325.0332  46.492370\n"
     ]
    }
   ],
   "source": [
    "for x in range(len(Point)):\n",
    "    df.loc[x, 'Tt1'] = Tamb[x] * ( 1 + ( 1.4-1 ) / 2 * 0.8 ** 2)\n",
    "    df.loc[x, 'Pt1'] = Pamb[x] * ( Tt1[x] / Tamb[x] ) ** 3.5\n",
    "    \n",
    "print(df)"
   ]
  },
  {
   "cell_type": "markdown",
   "id": "devoted-radical",
   "metadata": {},
   "source": [
    "***\n",
    "### Intake"
   ]
  },
  {
   "cell_type": "code",
   "execution_count": 80,
   "id": "impressive-charm",
   "metadata": {},
   "outputs": [
    {
     "data": {
      "text/html": [
       "<div>\n",
       "<style scoped>\n",
       "    .dataframe tbody tr th:only-of-type {\n",
       "        vertical-align: middle;\n",
       "    }\n",
       "\n",
       "    .dataframe tbody tr th {\n",
       "        vertical-align: top;\n",
       "    }\n",
       "\n",
       "    .dataframe thead th {\n",
       "        text-align: right;\n",
       "    }\n",
       "</style>\n",
       "<table border=\"1\" class=\"dataframe\">\n",
       "  <thead>\n",
       "    <tr style=\"text-align: right;\">\n",
       "      <th></th>\n",
       "      <th>Tt1</th>\n",
       "      <th>Pt1</th>\n",
       "      <th>Tt2</th>\n",
       "      <th>Pt2</th>\n",
       "    </tr>\n",
       "  </thead>\n",
       "  <tbody>\n",
       "    <tr>\n",
       "      <th>0</th>\n",
       "      <td>244.4376</td>\n",
       "      <td>34.492766</td>\n",
       "      <td>244.4376</td>\n",
       "      <td>34.320302</td>\n",
       "    </tr>\n",
       "    <tr>\n",
       "      <th>1</th>\n",
       "      <td>325.0332</td>\n",
       "      <td>46.492370</td>\n",
       "      <td>325.0332</td>\n",
       "      <td>46.492370</td>\n",
       "    </tr>\n",
       "  </tbody>\n",
       "</table>\n",
       "</div>"
      ],
      "text/plain": [
       "        Tt1        Pt1       Tt2        Pt2\n",
       "0  244.4376  34.492766  244.4376  34.320302\n",
       "1  325.0332  46.492370  325.0332  46.492370"
      ]
     },
     "execution_count": 80,
     "metadata": {},
     "output_type": "execute_result"
    }
   ],
   "source": [
    "for x in range(len(Point)):\n",
    "    df.loc[x, 'Tt2'] = df.Tt1.loc[x]\n",
    "    df.loc[x, 'Pt2'] = df.Pt1.loc[x] * ( 1 - Inlet_dP[x] )\n",
    "    \n",
    "df"
   ]
  },
  {
   "cell_type": "code",
   "execution_count": null,
   "id": "tutorial-orleans",
   "metadata": {},
   "outputs": [],
   "source": []
  }
 ],
 "metadata": {
  "kernelspec": {
   "display_name": "Python 3",
   "language": "python",
   "name": "python3"
  },
  "language_info": {
   "codemirror_mode": {
    "name": "ipython",
    "version": 3
   },
   "file_extension": ".py",
   "mimetype": "text/x-python",
   "name": "python",
   "nbconvert_exporter": "python",
   "pygments_lexer": "ipython3",
   "version": "3.7.3"
  }
 },
 "nbformat": 4,
 "nbformat_minor": 5
}
